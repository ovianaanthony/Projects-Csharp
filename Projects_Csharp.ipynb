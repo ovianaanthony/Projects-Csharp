{
  "nbformat": 4,
  "nbformat_minor": 0,
  "metadata": {
    "colab": {
      "provenance": [],
      "authorship_tag": "ABX9TyOKy8zCauhNbQFTUFdEuxKj",
      "include_colab_link": true
    },
    "kernelspec": {
      "name": "python3",
      "display_name": "Python 3"
    },
    "language_info": {
      "name": "python"
    }
  },
  "cells": [
    {
      "cell_type": "markdown",
      "metadata": {
        "id": "view-in-github",
        "colab_type": "text"
      },
      "source": [
        "<a href=\"https://colab.research.google.com/github/ovianaanthony/Projects-Csharp/blob/main/Projects_Csharp.ipynb\" target=\"_parent\"><img src=\"https://colab.research.google.com/assets/colab-badge.svg\" alt=\"Open In Colab\"/></a>"
      ]
    },
    {
      "cell_type": "markdown",
      "source": [
        "#### Guess what this example C# code does:"
      ],
      "metadata": {
        "id": "NeZzztcdCf2G"
      }
    },
    {
      "cell_type": "code",
      "source": [
        "using System;\n",
        "\n",
        "namespace SumNeighbors{\n",
        "    public static class Solution {\n",
        "                public static int[] TwoSum(int[] nums, int target) {\n",
        "                    var vetor = new int[2];\n",
        "                    for(int number=0; number<nums.Length-1;number++){\n",
        "                        if(nums[number]+nums[number+1]==target){\n",
        "                            vetor[0] = nums[number];\n",
        "                            vetor[1] = nums[number+1];\n",
        "                        }\n",
        "                    }\n",
        "                    return vetor;\n",
        "                }\n",
        "\n",
        "    }\n",
        "}"
      ],
      "metadata": {
        "id": "lua-fmgGChVA"
      },
      "execution_count": null,
      "outputs": []
    },
    {
      "cell_type": "markdown",
      "source": [
        "* A possible test example for this function"
      ],
      "metadata": {
        "id": "Z8ieeeeEDz8d"
      }
    },
    {
      "cell_type": "code",
      "source": [
        "using System;\n",
        "\n",
        "namespace SumNeighbors\n",
        "{\n",
        "    class Program\n",
        "    {\n",
        "        static void Main(string[] args)\n",
        "        {\n",
        "           Console.WriteLine(\"Welcome to the C# program that prints two consecutives numbers in some given array, if its sum is equal to a another given variable!\");\n",
        "           var vem = new int[5] {4, 6, 5, 1, 9};\n",
        "           int x = 11;\n",
        "           var a = Solution.TwoSum(vem, x);\n",
        "\n",
        "           Console.WriteLine(\"[\"+ string.Join(\",\", a)+\"]\");\n",
        "        }\n",
        "    }\n",
        "}\n"
      ],
      "metadata": {
        "id": "ewm70Y0_D_Ax"
      },
      "execution_count": null,
      "outputs": []
    }
  ]
}
